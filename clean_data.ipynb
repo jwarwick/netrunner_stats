{
 "cells": [
  {
   "cell_type": "markdown",
   "id": "82b232c8",
   "metadata": {},
   "source": [
    "# Game Log Sanitization"
   ]
  },
  {
   "cell_type": "markdown",
   "id": "b2663850",
   "metadata": {},
   "source": [
    "Strip out any personally-identifiable information from game log dump so data can be shared with the community."
   ]
  },
  {
   "cell_type": "code",
   "execution_count": 1,
   "id": "22fb4e44",
   "metadata": {},
   "outputs": [
    {
     "name": "stderr",
     "output_type": "stream",
     "text": [
      "\u001b[32m\u001b[1m    Updating\u001b[22m\u001b[39m registry at `/opt/julia/registries/General`\n",
      "\u001b[32m\u001b[1m   Resolving\u001b[22m\u001b[39m package versions...\n",
      "\u001b[32m\u001b[1m   Installed\u001b[22m\u001b[39m WeakRefStrings ────────────── v1.4.1\n",
      "\u001b[32m\u001b[1m   Installed\u001b[22m\u001b[39m PooledArrays ──────────────── v1.4.0\n",
      "\u001b[32m\u001b[1m   Installed\u001b[22m\u001b[39m Tables ────────────────────── v1.6.0\n",
      "\u001b[32m\u001b[1m   Installed\u001b[22m\u001b[39m DataAPI ───────────────────── v1.9.0\n",
      "\u001b[32m\u001b[1m   Installed\u001b[22m\u001b[39m SentinelArrays ────────────── v1.3.8\n",
      "\u001b[32m\u001b[1m   Installed\u001b[22m\u001b[39m FilePathsBase ─────────────── v0.9.17\n",
      "\u001b[32m\u001b[1m   Installed\u001b[22m\u001b[39m TranscodingStreams ────────── v0.9.6\n",
      "\u001b[32m\u001b[1m   Installed\u001b[22m\u001b[39m DataValueInterfaces ───────── v1.0.0\n",
      "\u001b[32m\u001b[1m   Installed\u001b[22m\u001b[39m CodecZlib ─────────────────── v0.7.0\n",
      "\u001b[32m\u001b[1m   Installed\u001b[22m\u001b[39m InlineStrings ─────────────── v1.1.0\n",
      "\u001b[32m\u001b[1m   Installed\u001b[22m\u001b[39m IteratorInterfaceExtensions ─ v1.0.0\n",
      "\u001b[32m\u001b[1m   Installed\u001b[22m\u001b[39m TableTraits ───────────────── v1.0.1\n",
      "\u001b[32m\u001b[1m   Installed\u001b[22m\u001b[39m CSV ───────────────────────── v0.9.11\n",
      "\u001b[32m\u001b[1m    Updating\u001b[22m\u001b[39m `/opt/julia/environments/v1.6/Project.toml`\n",
      " \u001b[90m [336ed68f] \u001b[39m\u001b[92m+ CSV v0.9.11\u001b[39m\n",
      "\u001b[32m\u001b[1m    Updating\u001b[22m\u001b[39m `/opt/julia/environments/v1.6/Manifest.toml`\n",
      " \u001b[90m [336ed68f] \u001b[39m\u001b[92m+ CSV v0.9.11\u001b[39m\n",
      " \u001b[90m [944b1d66] \u001b[39m\u001b[92m+ CodecZlib v0.7.0\u001b[39m\n",
      " \u001b[90m [9a962f9c] \u001b[39m\u001b[92m+ DataAPI v1.9.0\u001b[39m\n",
      " \u001b[90m [e2d170a0] \u001b[39m\u001b[92m+ DataValueInterfaces v1.0.0\u001b[39m\n",
      " \u001b[90m [48062228] \u001b[39m\u001b[92m+ FilePathsBase v0.9.17\u001b[39m\n",
      " \u001b[90m [842dd82b] \u001b[39m\u001b[92m+ InlineStrings v1.1.0\u001b[39m\n",
      " \u001b[90m [82899510] \u001b[39m\u001b[92m+ IteratorInterfaceExtensions v1.0.0\u001b[39m\n",
      " \u001b[90m [2dfb63ee] \u001b[39m\u001b[92m+ PooledArrays v1.4.0\u001b[39m\n",
      " \u001b[90m [91c51154] \u001b[39m\u001b[92m+ SentinelArrays v1.3.8\u001b[39m\n",
      " \u001b[90m [3783bdb8] \u001b[39m\u001b[92m+ TableTraits v1.0.1\u001b[39m\n",
      " \u001b[90m [bd369af6] \u001b[39m\u001b[92m+ Tables v1.6.0\u001b[39m\n",
      " \u001b[90m [3bb67fe8] \u001b[39m\u001b[92m+ TranscodingStreams v0.9.6\u001b[39m\n",
      " \u001b[90m [ea10d353] \u001b[39m\u001b[92m+ WeakRefStrings v1.4.1\u001b[39m\n",
      " \u001b[90m [9fa8497b] \u001b[39m\u001b[92m+ Future\u001b[39m\n",
      "\u001b[32m\u001b[1mPrecompiling\u001b[22m\u001b[39m project...\n",
      "\u001b[32m  ✓ \u001b[39m\u001b[90mDataValueInterfaces\u001b[39m\n",
      "\u001b[32m  ✓ \u001b[39m\u001b[90mIteratorInterfaceExtensions\u001b[39m\n",
      "\u001b[32m  ✓ \u001b[39m\u001b[90mDataAPI\u001b[39m\n",
      "\u001b[32m  ✓ \u001b[39m\u001b[90mTableTraits\u001b[39m\n",
      "\u001b[32m  ✓ \u001b[39m\u001b[90mPooledArrays\u001b[39m\n",
      "\u001b[32m  ✓ \u001b[39m\u001b[90mTranscodingStreams\u001b[39m\n",
      "\u001b[32m  ✓ \u001b[39m\u001b[90mSentinelArrays\u001b[39m\n",
      "\u001b[32m  ✓ \u001b[39m\u001b[90mInlineStrings\u001b[39m\n",
      "\u001b[32m  ✓ \u001b[39m\u001b[90mCodecZlib\u001b[39m\n",
      "\u001b[32m  ✓ \u001b[39m\u001b[90mTables\u001b[39m\n",
      "\u001b[32m  ✓ \u001b[39m\u001b[90mFilePathsBase\u001b[39m\n",
      "\u001b[32m  ✓ \u001b[39m\u001b[90mWeakRefStrings\u001b[39m\n",
      "\u001b[32m  ✓ \u001b[39mCSV\n",
      "  13 dependencies successfully precompiled in 12 seconds (24 already precompiled)\n",
      "\u001b[32m\u001b[1m   Resolving\u001b[22m\u001b[39m package versions...\n",
      "\u001b[32m\u001b[1m   Installed\u001b[22m\u001b[39m SortingAlgorithms ── v1.0.1\n",
      "\u001b[32m\u001b[1m   Installed\u001b[22m\u001b[39m Formatting ───────── v0.4.2\n",
      "\u001b[32m\u001b[1m   Installed\u001b[22m\u001b[39m Crayons ──────────── v4.0.4\n",
      "\u001b[32m\u001b[1m   Installed\u001b[22m\u001b[39m Reexport ─────────── v1.2.2\n",
      "\u001b[32m\u001b[1m   Installed\u001b[22m\u001b[39m InvertedIndices ──── v1.1.0\n",
      "\u001b[32m\u001b[1m   Installed\u001b[22m\u001b[39m Missings ─────────── v1.0.2\n",
      "\u001b[32m\u001b[1m   Installed\u001b[22m\u001b[39m OrderedCollections ─ v1.4.1\n",
      "\u001b[32m\u001b[1m   Installed\u001b[22m\u001b[39m DataStructures ───── v0.18.10\n",
      "\u001b[32m\u001b[1m   Installed\u001b[22m\u001b[39m DataFrames ───────── v1.3.0\n",
      "\u001b[32m\u001b[1m   Installed\u001b[22m\u001b[39m PrettyTables ─────── v1.2.3\n",
      "\u001b[32m\u001b[1m    Updating\u001b[22m\u001b[39m `/opt/julia/environments/v1.6/Project.toml`\n",
      " \u001b[90m [a93c6f00] \u001b[39m\u001b[92m+ DataFrames v1.3.0\u001b[39m\n",
      "\u001b[32m\u001b[1m    Updating\u001b[22m\u001b[39m `/opt/julia/environments/v1.6/Manifest.toml`\n",
      " \u001b[90m [a8cc5b0e] \u001b[39m\u001b[92m+ Crayons v4.0.4\u001b[39m\n",
      " \u001b[90m [a93c6f00] \u001b[39m\u001b[92m+ DataFrames v1.3.0\u001b[39m\n",
      " \u001b[90m [864edb3b] \u001b[39m\u001b[92m+ DataStructures v0.18.10\u001b[39m\n",
      " \u001b[90m [59287772] \u001b[39m\u001b[92m+ Formatting v0.4.2\u001b[39m\n",
      " \u001b[90m [41ab1584] \u001b[39m\u001b[92m+ InvertedIndices v1.1.0\u001b[39m\n",
      " \u001b[90m [e1d29d7a] \u001b[39m\u001b[92m+ Missings v1.0.2\u001b[39m\n",
      " \u001b[90m [bac558e1] \u001b[39m\u001b[92m+ OrderedCollections v1.4.1\u001b[39m\n",
      " \u001b[90m [08abe8d2] \u001b[39m\u001b[92m+ PrettyTables v1.2.3\u001b[39m\n",
      " \u001b[90m [189a3867] \u001b[39m\u001b[92m+ Reexport v1.2.2\u001b[39m\n",
      " \u001b[90m [a2af1166] \u001b[39m\u001b[92m+ SortingAlgorithms v1.0.1\u001b[39m\n",
      "\u001b[32m\u001b[1mPrecompiling\u001b[22m\u001b[39m project...\n",
      "\u001b[32m  ✓ \u001b[39m\u001b[90mReexport\u001b[39m\n",
      "\u001b[32m  ✓ \u001b[39m\u001b[90mMissings\u001b[39m\n",
      "\u001b[32m  ✓ \u001b[39m\u001b[90mInvertedIndices\u001b[39m\n",
      "\u001b[32m  ✓ \u001b[39m\u001b[90mOrderedCollections\u001b[39m\n",
      "\u001b[32m  ✓ \u001b[39m\u001b[90mFormatting\u001b[39m\n",
      "\u001b[32m  ✓ \u001b[39m\u001b[90mCrayons\u001b[39m\n",
      "\u001b[32m  ✓ \u001b[39m\u001b[90mDataStructures\u001b[39m\n",
      "\u001b[32m  ✓ \u001b[39m\u001b[90mSortingAlgorithms\u001b[39m\n",
      "\u001b[32m  ✓ \u001b[39m\u001b[90mPrettyTables\u001b[39m\n",
      "\u001b[32m  ✓ \u001b[39mDataFrames\n",
      "  10 dependencies successfully precompiled in 33 seconds (37 already precompiled)\n",
      "\u001b[32m\u001b[1m   Resolving\u001b[22m\u001b[39m package versions...\n",
      "\u001b[32m\u001b[1m   Installed\u001b[22m\u001b[39m MacroTools ───── v0.5.9\n",
      "\u001b[32m\u001b[1m   Installed\u001b[22m\u001b[39m Chain ────────── v0.4.10\n",
      "\u001b[32m\u001b[1m   Installed\u001b[22m\u001b[39m DataFramesMeta ─ v0.10.0\n",
      "\u001b[32m\u001b[1m    Updating\u001b[22m\u001b[39m `/opt/julia/environments/v1.6/Project.toml`\n",
      " \u001b[90m [1313f7d8] \u001b[39m\u001b[92m+ DataFramesMeta v0.10.0\u001b[39m\n",
      "\u001b[32m\u001b[1m    Updating\u001b[22m\u001b[39m `/opt/julia/environments/v1.6/Manifest.toml`\n",
      " \u001b[90m [8be319e6] \u001b[39m\u001b[92m+ Chain v0.4.10\u001b[39m\n",
      " \u001b[90m [1313f7d8] \u001b[39m\u001b[92m+ DataFramesMeta v0.10.0\u001b[39m\n",
      " \u001b[90m [1914dd2f] \u001b[39m\u001b[92m+ MacroTools v0.5.9\u001b[39m\n",
      "\u001b[32m\u001b[1mPrecompiling\u001b[22m\u001b[39m project...\n",
      "\u001b[32m  ✓ \u001b[39m\u001b[90mChain\u001b[39m\n",
      "\u001b[32m  ✓ \u001b[39m\u001b[90mMacroTools\u001b[39m\n",
      "\u001b[32m  ✓ \u001b[39mDataFramesMeta\n",
      "  3 dependencies successfully precompiled in 4 seconds (47 already precompiled)\n"
     ]
    }
   ],
   "source": [
    "import Pkg; \n",
    "Pkg.add(\"CSV\");\n",
    "Pkg.add(\"DataFrames\");\n",
    "Pkg.add(\"DataFramesMeta\");\n",
    "\n",
    "using CSV;\n",
    "using DataFrames;\n",
    "using DataFramesMeta;\n",
    "import Dates;"
   ]
  },
  {
   "cell_type": "markdown",
   "id": "68500784",
   "metadata": {},
   "source": [
    "## Load the data"
   ]
  },
  {
   "cell_type": "code",
   "execution_count": 7,
   "id": "360f96e9",
   "metadata": {},
   "outputs": [
    {
     "data": {
      "text/plain": [
       "(111112, 9)"
      ]
     },
     "execution_count": 7,
     "metadata": {},
     "output_type": "execute_result"
    }
   ],
   "source": [
    "df = DataFrame(CSV.File(\"data.csv\"));\n",
    "#df = dropmissing(df, :\"runner-username\")\n",
    "#df = dropmissing(df, :\"corp-username\")\n",
    "size(df)"
   ]
  },
  {
   "cell_type": "markdown",
   "id": "abfceeda",
   "metadata": {},
   "source": [
    "## Compute game length"
   ]
  },
  {
   "cell_type": "code",
   "execution_count": 8,
   "id": "421a65bc",
   "metadata": {},
   "outputs": [
    {
     "data": {
      "text/plain": [
       "(111112, 10)"
      ]
     },
     "execution_count": 8,
     "metadata": {},
     "output_type": "execute_result"
    }
   ],
   "source": [
    "fmt = Dates.DateFormat(\"yyyymmddTHHMMSSZ\")\n",
    "start_dt = Dates.DateTime.(df[:, :start], fmt)\n",
    "end_dt = Dates.DateTime.(df[:, :end], fmt)\n",
    "game_time = round.(end_dt - start_dt, Dates.Minute)\n",
    "mins = map(x -> x.value, game_time)\n",
    "insertcols!(df, 3, :time => mins)\n",
    "size(df)"
   ]
  },
  {
   "cell_type": "markdown",
   "id": "e6e37428",
   "metadata": {},
   "source": [
    "## Remove game time of day"
   ]
  },
  {
   "cell_type": "code",
   "execution_count": 9,
   "id": "8763bee4",
   "metadata": {},
   "outputs": [
    {
     "data": {
      "text/plain": [
       "(111112, 11)"
      ]
     },
     "execution_count": 9,
     "metadata": {},
     "output_type": "execute_result"
    }
   ],
   "source": [
    "transform!(df, :start => ByRow(x -> split(x, \"T\")[1]) => :date)\n",
    "size(df)"
   ]
  },
  {
   "cell_type": "markdown",
   "id": "19a393df",
   "metadata": {},
   "source": [
    "## Hash Usernames"
   ]
  },
  {
   "cell_type": "code",
   "execution_count": 10,
   "id": "dfe2fff6",
   "metadata": {},
   "outputs": [],
   "source": [
    "#using SHA\n",
    "#using Random\n",
    "\n",
    "#salt = randstring(5)\n",
    "#runners = df[:, :\"runner-username\"] .* salt\n",
    "#runners = bytes2hex.(sha256.(runners[:]))\n",
    "#corps = df[:, :\"corp-username\"] .* salt\n",
    "#corps = bytes2hex.(sha256.(corps[:]))\n",
    "#insertcols!(df, 4, :corpusernamehash => corps)\n",
    "#insertcols!(df, 5, :runnerusernamehash => runners)\n",
    "#size(df)"
   ]
  },
  {
   "cell_type": "markdown",
   "id": "e9ea8e15",
   "metadata": {},
   "source": [
    "## Write new CSV file"
   ]
  },
  {
   "cell_type": "code",
   "execution_count": 11,
   "id": "d3485ad5",
   "metadata": {},
   "outputs": [
    {
     "data": {
      "text/plain": [
       "\"20211208_games.csv\""
      ]
     },
     "execution_count": 11,
     "metadata": {},
     "output_type": "execute_result"
    }
   ],
   "source": [
    "for_output = df[:, [:date, :time, :turn, :room, :format, :winner, :reason, :corp, :runner]]\n",
    "fmt = Dates.DateFormat(\"yyyymmdd\")\n",
    "filename = string(Dates.format(Dates.now(), fmt), \"_games.csv\")\n",
    "CSV.write(filename, for_output)"
   ]
  },
  {
   "cell_type": "code",
   "execution_count": null,
   "id": "f500f27c",
   "metadata": {},
   "outputs": [],
   "source": []
  }
 ],
 "metadata": {
  "kernelspec": {
   "display_name": "Julia 1.6.3",
   "language": "julia",
   "name": "julia-1.6"
  },
  "language_info": {
   "file_extension": ".jl",
   "mimetype": "application/julia",
   "name": "julia",
   "version": "1.6.3"
  }
 },
 "nbformat": 4,
 "nbformat_minor": 5
}
