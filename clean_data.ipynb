{
 "cells": [
  {
   "cell_type": "markdown",
   "id": "82b232c8",
   "metadata": {},
   "source": [
    "# Game Log Sanitization"
   ]
  },
  {
   "cell_type": "markdown",
   "id": "b2663850",
   "metadata": {},
   "source": [
    "Strip out any personally-identifiable information from game log dump so data can be shared with the community."
   ]
  },
  {
   "cell_type": "code",
   "execution_count": 1,
   "id": "22fb4e44",
   "metadata": {},
   "outputs": [
    {
     "name": "stderr",
     "output_type": "stream",
     "text": [
      "\u001b[32m\u001b[1m    Updating\u001b[22m\u001b[39m registry at `/opt/julia/registries/General`\n",
      "\u001b[32m\u001b[1m   Resolving\u001b[22m\u001b[39m package versions...\n",
      "\u001b[32m\u001b[1m  No Changes\u001b[22m\u001b[39m to `/opt/julia/environments/v1.6/Project.toml`\n",
      "\u001b[32m\u001b[1m  No Changes\u001b[22m\u001b[39m to `/opt/julia/environments/v1.6/Manifest.toml`\n",
      "\u001b[32m\u001b[1m   Resolving\u001b[22m\u001b[39m package versions...\n",
      "\u001b[32m\u001b[1m  No Changes\u001b[22m\u001b[39m to `/opt/julia/environments/v1.6/Project.toml`\n",
      "\u001b[32m\u001b[1m  No Changes\u001b[22m\u001b[39m to `/opt/julia/environments/v1.6/Manifest.toml`\n",
      "\u001b[32m\u001b[1m   Resolving\u001b[22m\u001b[39m package versions...\n",
      "\u001b[32m\u001b[1m  No Changes\u001b[22m\u001b[39m to `/opt/julia/environments/v1.6/Project.toml`\n",
      "\u001b[32m\u001b[1m  No Changes\u001b[22m\u001b[39m to `/opt/julia/environments/v1.6/Manifest.toml`\n"
     ]
    }
   ],
   "source": [
    "import Pkg; \n",
    "Pkg.add(\"CSV\");\n",
    "Pkg.add(\"DataFrames\");\n",
    "Pkg.add(\"DataFramesMeta\");\n",
    "\n",
    "using CSV;\n",
    "using DataFrames;\n",
    "using DataFramesMeta;\n",
    "import Dates;"
   ]
  },
  {
   "cell_type": "markdown",
   "id": "68500784",
   "metadata": {},
   "source": [
    "## Load the data"
   ]
  },
  {
   "cell_type": "code",
   "execution_count": 2,
   "id": "360f96e9",
   "metadata": {},
   "outputs": [
    {
     "data": {
      "text/plain": [
       "(312644, 11)"
      ]
     },
     "execution_count": 2,
     "metadata": {},
     "output_type": "execute_result"
    }
   ],
   "source": [
    "df = DataFrame(CSV.File(\"data.csv\"));\n",
    "df = dropmissing(df, :\"runner-username\")\n",
    "df = dropmissing(df, :\"corp-username\")\n",
    "size(df)"
   ]
  },
  {
   "cell_type": "markdown",
   "id": "abfceeda",
   "metadata": {},
   "source": [
    "## Compute game length"
   ]
  },
  {
   "cell_type": "code",
   "execution_count": 3,
   "id": "421a65bc",
   "metadata": {},
   "outputs": [
    {
     "data": {
      "text/plain": [
       "(312644, 12)"
      ]
     },
     "execution_count": 3,
     "metadata": {},
     "output_type": "execute_result"
    }
   ],
   "source": [
    "fmt = Dates.DateFormat(\"yyyymmddTHHMMSSZ\")\n",
    "start_dt = Dates.DateTime.(df[:, :start], fmt)\n",
    "end_dt = Dates.DateTime.(df[:, :end], fmt)\n",
    "game_time = round.(end_dt - start_dt, Dates.Minute)\n",
    "mins = map(x -> x.value, game_time)\n",
    "insertcols!(df, 3, :time => mins)\n",
    "size(df)"
   ]
  },
  {
   "cell_type": "markdown",
   "id": "e6e37428",
   "metadata": {},
   "source": [
    "## Remove game time of day"
   ]
  },
  {
   "cell_type": "code",
   "execution_count": 4,
   "id": "8763bee4",
   "metadata": {},
   "outputs": [
    {
     "data": {
      "text/plain": [
       "(312644, 13)"
      ]
     },
     "execution_count": 4,
     "metadata": {},
     "output_type": "execute_result"
    }
   ],
   "source": [
    "transform!(df, :start => ByRow(x -> split(x, \"T\")[1]) => :date)\n",
    "size(df)"
   ]
  },
  {
   "cell_type": "markdown",
   "id": "19a393df",
   "metadata": {},
   "source": [
    "## Hash Usernames"
   ]
  },
  {
   "cell_type": "code",
   "execution_count": 5,
   "id": "dfe2fff6",
   "metadata": {},
   "outputs": [
    {
     "data": {
      "text/plain": [
       "(312644, 15)"
      ]
     },
     "execution_count": 5,
     "metadata": {},
     "output_type": "execute_result"
    }
   ],
   "source": [
    "using SHA\n",
    "using Random\n",
    "\n",
    "salt = randstring(5)\n",
    "runners = df[:, :\"runner-username\"] .* salt\n",
    "runners = bytes2hex.(sha256.(runners[:]))\n",
    "corps = df[:, :\"corp-username\"] .* salt\n",
    "corps = bytes2hex.(sha256.(corps[:]))\n",
    "insertcols!(df, 4, :corpusernamehash => corps)\n",
    "insertcols!(df, 5, :runnerusernamehash => runners)\n",
    "size(df)"
   ]
  },
  {
   "cell_type": "markdown",
   "id": "e9ea8e15",
   "metadata": {},
   "source": [
    "## Write new CSV file"
   ]
  },
  {
   "cell_type": "code",
   "execution_count": 6,
   "id": "d3485ad5",
   "metadata": {},
   "outputs": [
    {
     "data": {
      "text/plain": [
       "\"20210720_games.csv\""
      ]
     },
     "execution_count": 6,
     "metadata": {},
     "output_type": "execute_result"
    }
   ],
   "source": [
    "for_output = df[:, [:date, :time, :turn, :room, :format, :winner, :reason, :corp, :runner, :corpusernamehash, :runnerusernamehash]]\n",
    "fmt = Dates.DateFormat(\"yyyymmdd\")\n",
    "filename = string(Dates.format(Dates.now(), fmt), \"_games.csv\")\n",
    "CSV.write(filename, for_output)"
   ]
  },
  {
   "cell_type": "code",
   "execution_count": null,
   "id": "f500f27c",
   "metadata": {},
   "outputs": [],
   "source": []
  }
 ],
 "metadata": {
  "kernelspec": {
   "display_name": "Julia 1.6.0",
   "language": "julia",
   "name": "julia-1.6"
  },
  "language_info": {
   "file_extension": ".jl",
   "mimetype": "application/julia",
   "name": "julia",
   "version": "1.6.0"
  }
 },
 "nbformat": 4,
 "nbformat_minor": 5
}
