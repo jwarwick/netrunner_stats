{
 "cells": [
  {
   "cell_type": "markdown",
   "id": "functioning-winning",
   "metadata": {},
   "source": [
    "# Game Log Sanitization"
   ]
  },
  {
   "cell_type": "markdown",
   "id": "acquired-rescue",
   "metadata": {},
   "source": [
    "Strip out any personally-identifiable information from game log dump so data can be shared with the community."
   ]
  },
  {
   "cell_type": "code",
   "execution_count": 36,
   "id": "placed-florence",
   "metadata": {},
   "outputs": [
    {
     "name": "stderr",
     "output_type": "stream",
     "text": [
      "\u001b[32m\u001b[1m  Resolving\u001b[22m\u001b[39m package versions...\n",
      "\u001b[32m\u001b[1mNo Changes\u001b[22m\u001b[39m to `/opt/julia/environments/v1.5/Project.toml`\n",
      "\u001b[32m\u001b[1mNo Changes\u001b[22m\u001b[39m to `/opt/julia/environments/v1.5/Manifest.toml`\n",
      "\u001b[32m\u001b[1m  Resolving\u001b[22m\u001b[39m package versions...\n",
      "\u001b[32m\u001b[1mNo Changes\u001b[22m\u001b[39m to `/opt/julia/environments/v1.5/Project.toml`\n",
      "\u001b[32m\u001b[1mNo Changes\u001b[22m\u001b[39m to `/opt/julia/environments/v1.5/Manifest.toml`\n",
      "\u001b[32m\u001b[1m  Resolving\u001b[22m\u001b[39m package versions...\n",
      "\u001b[32m\u001b[1mNo Changes\u001b[22m\u001b[39m to `/opt/julia/environments/v1.5/Project.toml`\n",
      "\u001b[32m\u001b[1mNo Changes\u001b[22m\u001b[39m to `/opt/julia/environments/v1.5/Manifest.toml`\n"
     ]
    }
   ],
   "source": [
    "import Pkg; \n",
    "Pkg.add(\"CSV\");\n",
    "Pkg.add(\"DataFrames\");\n",
    "Pkg.add(\"DataFramesMeta\");\n",
    "\n",
    "using CSV;\n",
    "using DataFrames;\n",
    "using DataFramesMeta;\n",
    "import Dates;"
   ]
  },
  {
   "cell_type": "markdown",
   "id": "offensive-jurisdiction",
   "metadata": {},
   "source": [
    "## Load the data"
   ]
  },
  {
   "cell_type": "code",
   "execution_count": 37,
   "id": "helpful-glasgow",
   "metadata": {},
   "outputs": [
    {
     "data": {
      "text/plain": [
       "(32452, 9)"
      ]
     },
     "execution_count": 37,
     "metadata": {},
     "output_type": "execute_result"
    }
   ],
   "source": [
    "df = DataFrame(CSV.File(\"data.csv\"));\n",
    "size(df)"
   ]
  },
  {
   "cell_type": "markdown",
   "id": "powerful-robertson",
   "metadata": {},
   "source": [
    "## Compute game length"
   ]
  },
  {
   "cell_type": "code",
   "execution_count": 38,
   "id": "seasonal-wagner",
   "metadata": {},
   "outputs": [
    {
     "data": {
      "text/plain": [
       "(32452, 10)"
      ]
     },
     "execution_count": 38,
     "metadata": {},
     "output_type": "execute_result"
    }
   ],
   "source": [
    "fmt = Dates.DateFormat(\"yyyymmddTHHMMSSZ\")\n",
    "start_dt = Dates.DateTime.(df[:, :start], fmt)\n",
    "end_dt = Dates.DateTime.(df[:, :end], fmt)\n",
    "game_time = round.(end_dt - start_dt, Dates.Minute)\n",
    "mins = map(x -> x.value, game_time)\n",
    "insertcols!(df, 3, :time => mins)\n",
    "size(df)"
   ]
  },
  {
   "cell_type": "markdown",
   "id": "cubic-victorian",
   "metadata": {},
   "source": [
    "## Remove game time of day"
   ]
  },
  {
   "cell_type": "code",
   "execution_count": 39,
   "id": "commercial-punishment",
   "metadata": {},
   "outputs": [
    {
     "data": {
      "text/plain": [
       "(32452, 11)"
      ]
     },
     "execution_count": 39,
     "metadata": {},
     "output_type": "execute_result"
    }
   ],
   "source": [
    "transform!(df, :start => ByRow(x -> split(x, \"T\")[1]) => :date)\n",
    "size(df)"
   ]
  },
  {
   "cell_type": "markdown",
   "id": "mobile-arthritis",
   "metadata": {},
   "source": [
    "## Write new CSV file"
   ]
  },
  {
   "cell_type": "code",
   "execution_count": 40,
   "id": "sunrise-jones",
   "metadata": {},
   "outputs": [
    {
     "data": {
      "text/plain": [
       "\"20210206_games.csv\""
      ]
     },
     "execution_count": 40,
     "metadata": {},
     "output_type": "execute_result"
    }
   ],
   "source": [
    "for_output = df[:, [:date, :time, :turn, :room, :format, :winner, :reason, :corp, :runner]]\n",
    "fmt = Dates.DateFormat(\"yyyymmdd\")\n",
    "filename = string(Dates.format(Dates.now(), fmt), \"_games.csv\")\n",
    "CSV.write(filename, for_output)"
   ]
  }
 ],
 "metadata": {
  "kernelspec": {
   "display_name": "Julia 1.5.3",
   "language": "julia",
   "name": "julia-1.5"
  },
  "language_info": {
   "file_extension": ".jl",
   "mimetype": "application/julia",
   "name": "julia",
   "version": "1.5.3"
  }
 },
 "nbformat": 4,
 "nbformat_minor": 5
}
